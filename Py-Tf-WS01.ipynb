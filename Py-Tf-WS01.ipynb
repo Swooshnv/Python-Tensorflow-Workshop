{
 "cells": [
  {
   "cell_type": "markdown",
   "id": "da10e71b",
   "metadata": {},
   "source": [
    "***Swoosh Naghavi***"
   ]
  },
  {
   "cell_type": "markdown",
   "id": "e5c1b13c",
   "metadata": {},
   "source": [
    "**Defining an integer.\n",
    "Accessing arguments, parameters.**"
   ]
  },
  {
   "cell_type": "code",
   "execution_count": 13,
   "id": "d845eada",
   "metadata": {},
   "outputs": [
    {
     "name": "stdout",
     "output_type": "stream",
     "text": [
      "<class 'int'>\n",
      "range(0, 5)\n"
     ]
    }
   ],
   "source": [
    "number = 5\n",
    "print(type(number))"
   ]
  },
  {
   "cell_type": "markdown",
   "id": "2b6f373b",
   "metadata": {},
   "source": [
    "**Working with functions from numpy library**"
   ]
  },
  {
   "cell_type": "code",
   "execution_count": 25,
   "id": "43251b71",
   "metadata": {},
   "outputs": [
    {
     "name": "stdout",
     "output_type": "stream",
     "text": [
      "[0.  0.5 1.  1.5 2.  2.5 3.  3.5 4.  4.5 5.  5.5 6.  6.5 7.  7.5 8.  8.5\n",
      " 9.  9.5]\n",
      "Length of array: 20\n",
      "Number of dimensions: 1\n",
      "Shape of array: (20,)\n"
     ]
    }
   ],
   "source": [
    "import numpy as np\n",
    "array = np.arange(start = 0, stop = 10, step = 0.5)\n",
    "print(array)\n",
    "print(f\"Length of array: {len(array)}\")\n",
    "print(f\"Number of dimensions: {array.ndim}\")\n",
    "print(f\"Shape of array: {array.shape}\")"
   ]
  },
  {
   "cell_type": "markdown",
   "id": "1de80d71",
   "metadata": {},
   "source": [
    "**Reshaping arrays, increasing/decreasing dimensions**"
   ]
  },
  {
   "cell_type": "code",
   "execution_count": 28,
   "id": "663f3d7f",
   "metadata": {},
   "outputs": [
    {
     "name": "stdout",
     "output_type": "stream",
     "text": [
      "[[[0.  0.5]\n",
      "  [1.  1.5]\n",
      "  [2.  2.5]\n",
      "  [3.  3.5]\n",
      "  [4.  4.5]]\n",
      "\n",
      " [[5.  5.5]\n",
      "  [6.  6.5]\n",
      "  [7.  7.5]\n",
      "  [8.  8.5]\n",
      "  [9.  9.5]]]\n",
      "Length of second array: 2\n",
      "Number of dimensions: 3\n",
      "Shape of second array: (2, 5, 2)\n"
     ]
    }
   ],
   "source": [
    "array2 = array.reshape(2, 5, 2)\n",
    "print(array2)\n",
    "print(f\"Length of second array: {len(array2)}\")\n",
    "print(f\"Number of dimensions: {array2.ndim}\")\n",
    "print(f\"Shape of second array: {array2.shape}\")"
   ]
  },
  {
   "cell_type": "markdown",
   "id": "1ee4ad1a",
   "metadata": {},
   "source": [
    "**Working with for loops, tqdm library**"
   ]
  },
  {
   "cell_type": "code",
   "execution_count": 49,
   "id": "e5868ff4",
   "metadata": {},
   "outputs": [],
   "source": [
    "from tqdm.notebook import tqdm_notebook\n",
    "from time import sleep"
   ]
  },
  {
   "cell_type": "code",
   "execution_count": 61,
   "id": "23dc6134",
   "metadata": {},
   "outputs": [
    {
     "data": {
      "application/vnd.jupyter.widget-view+json": {
       "model_id": "c958406859a140fc99c8e543f08facf4",
       "version_major": 2,
       "version_minor": 0
      },
      "text/plain": [
       "  0%|          | 0/20 [00:00<?, ?it/s]"
      ]
     },
     "metadata": {},
     "output_type": "display_data"
    },
    {
     "name": "stdout",
     "output_type": "stream",
     "text": [
      "<                  >\r"
     ]
    }
   ],
   "source": [
    "for cycle in tqdm_notebook(range(len(array))):\n",
    "    print(\"<\" + \"  \" * ((cycle) % 10) + \">\", end = \"\\r\")\n",
    "    sleep(0.1)"
   ]
  },
  {
   "cell_type": "code",
   "execution_count": null,
   "id": "6561c8e9",
   "metadata": {},
   "outputs": [],
   "source": []
  }
 ],
 "metadata": {
  "kernelspec": {
   "display_name": "Python 3 (ipykernel)",
   "language": "python",
   "name": "python3"
  },
  "language_info": {
   "codemirror_mode": {
    "name": "ipython",
    "version": 3
   },
   "file_extension": ".py",
   "mimetype": "text/x-python",
   "name": "python",
   "nbconvert_exporter": "python",
   "pygments_lexer": "ipython3",
   "version": "3.9.12"
  }
 },
 "nbformat": 4,
 "nbformat_minor": 5
}
